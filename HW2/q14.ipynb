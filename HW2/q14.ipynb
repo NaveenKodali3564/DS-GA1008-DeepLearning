{
 "cells": [
  {
   "cell_type": "code",
   "execution_count": 1,
   "metadata": {},
   "outputs": [],
   "source": [
    "import torch\n",
    "import torch.nn as nn\n",
    "import torch.nn.functional as F\n",
    "import numpy as np\n",
    "from IPython import display"
   ]
  },
  {
   "cell_type": "code",
   "execution_count": 2,
   "metadata": {},
   "outputs": [],
   "source": [
    "def calculate_psi(x):\n",
    "    return 0.5-np.amax(np.abs(np.abs(x)-0.5), axis=1)\n",
    "\n",
    "def calculate_y(x, g_num):\n",
    "    z = np.sign(x)\n",
    "    z_list = []\n",
    "    for row in z:\n",
    "        #print(row.size)\n",
    "        ind = 0\n",
    "        for i in range(len(row)):\n",
    "            if row[i] == 1:\n",
    "                ind += 2**i\n",
    "        z_list.append(g_num[ind])\n",
    "    # ind = np.sum([digit * 2 ** i for i, digit in enumerate(row)])\n",
    "    y = z_list * calculate_psi(x-z/2)\n",
    "    return torch.FloatTensor(y)"
   ]
  },
  {
   "cell_type": "code",
   "execution_count": 3,
   "metadata": {},
   "outputs": [
    {
     "name": "stdout",
     "output_type": "stream",
     "text": [
      "cuda:0\n"
     ]
    }
   ],
   "source": [
    "learning_rate = 0.1\n",
    "lambda_l2 = 1e-5\n",
    "\n",
    "output_size = 1\n",
    "\n",
    "loss_fn = nn.MSELoss()\n",
    "\n",
    "models = []\n",
    "gen_error = {} # d-n-gen_error\n",
    "\n",
    "device = torch.device(\"cuda:0\" if torch.cuda.is_available() else \"cpu\")\n",
    "print(device)"
   ]
  },
  {
   "cell_type": "code",
   "execution_count": 6,
   "metadata": {},
   "outputs": [
    {
     "name": "stdout",
     "output_type": "stream",
     "text": [
      "[MODEL]: g_9, [d]: 14, [n]: 8192, [EPOCH]: 149, [LOSS]: 0.002664\n"
     ]
    }
   ],
   "source": [
    "for d in range(5, 15, 3):\n",
    "    gen_error[d] = {}\n",
    "    for j in range(5, 14):\n",
    "        n = 2**j\n",
    "        gen_error_k = 0\n",
    "\n",
    "        #x_train = torch.zeros([n, d]).uniform_(-1, 1)\n",
    "        x_train = np.random.uniform(low=-1, high=1, size=(n,d)).astype('float32')\n",
    "        \n",
    "        #x_test = torch.zeros([n, d]).uniform_(-1, 1)\n",
    "        x_test = np.random.uniform(low=-1, high=1, size=(n,d)).astype('float32')\n",
    "        \n",
    "        x_train_tensor = torch.from_numpy(x_train).to(device)\n",
    "        x_test_tensor = torch.from_numpy(x_test).to(device)\n",
    "\n",
    "\n",
    "        for k in range(10):\n",
    "            np.random.seed(k)\n",
    "            g_num = np.random.choice([-1,1], size=(2**d))\n",
    "            y_train = calculate_y(x_train, g_num).to(device)\n",
    "            y_test = calculate_y(x_test, g_num).to(device)\n",
    "\n",
    "            n_1st = 32\n",
    "            n_2nd = 32\n",
    "            model = nn.Sequential(\n",
    "                nn.Linear(d, n_1st),\n",
    "                nn.ReLU(),\n",
    "                nn.Linear(n_1st, n_2nd),\n",
    "                nn.ReLU(),\n",
    "                nn.Linear(n_2nd, output_size),\n",
    "            )\n",
    "            model.to(device)\n",
    "            models.append(model)\n",
    "\n",
    "            optimizer = torch.optim.SGD(model.parameters(), lr=learning_rate)\n",
    "\n",
    "            loss = 0\n",
    "            for t in range(150):\n",
    "                y_pred = model(x_train_tensor)\n",
    "                loss = loss_fn(y_pred, y_train)\n",
    "                if loss - 0 <= 1e-4:\n",
    "                    break\n",
    "                optimizer.zero_grad()\n",
    "                loss.backward()\n",
    "                optimizer.step()\n",
    "            print(f\"[MODEL]: g_{k}, [d]: {d}, [n]: {n}, [EPOCH]: {t}, [LOSS]: {loss.item():.6f}\")\n",
    "            display.clear_output(wait=True)\n",
    "            with torch.no_grad():\n",
    "                y_pred = model(x_test_tensor)\n",
    "            gen_error_k += loss_fn(y_pred, y_test) / y_test.std().item()\n",
    "        gen_error[d][j] = gen_error_k / 10"
   ]
  },
  {
   "cell_type": "code",
   "execution_count": 7,
   "metadata": {},
   "outputs": [
    {
     "data": {
      "text/plain": [
       "{5: {5: tensor(0.1240, device='cuda:0'),\n",
       "  6: tensor(0.1221, device='cuda:0'),\n",
       "  7: tensor(0.1207, device='cuda:0'),\n",
       "  8: tensor(0.1117, device='cuda:0'),\n",
       "  9: tensor(0.1112, device='cuda:0'),\n",
       "  10: tensor(0.1119, device='cuda:0'),\n",
       "  11: tensor(0.1124, device='cuda:0'),\n",
       "  12: tensor(0.1100, device='cuda:0'),\n",
       "  13: tensor(0.1102, device='cuda:0')},\n",
       " 8: {5: tensor(0.0787, device='cuda:0'),\n",
       "  6: tensor(0.0941, device='cuda:0'),\n",
       "  7: tensor(0.0791, device='cuda:0'),\n",
       "  8: tensor(0.0810, device='cuda:0'),\n",
       "  9: tensor(0.0791, device='cuda:0'),\n",
       "  10: tensor(0.0777, device='cuda:0'),\n",
       "  11: tensor(0.0810, device='cuda:0'),\n",
       "  12: tensor(0.0798, device='cuda:0'),\n",
       "  13: tensor(0.0800, device='cuda:0')},\n",
       " 11: {5: tensor(0.0738, device='cuda:0'),\n",
       "  6: tensor(0.0666, device='cuda:0'),\n",
       "  7: tensor(0.0667, device='cuda:0'),\n",
       "  8: tensor(0.0639, device='cuda:0'),\n",
       "  9: tensor(0.0612, device='cuda:0'),\n",
       "  10: tensor(0.0628, device='cuda:0'),\n",
       "  11: tensor(0.0642, device='cuda:0'),\n",
       "  12: tensor(0.0655, device='cuda:0'),\n",
       "  13: tensor(0.0642, device='cuda:0')},\n",
       " 14: {5: tensor(0.0655, device='cuda:0'),\n",
       "  6: tensor(0.0512, device='cuda:0'),\n",
       "  7: tensor(0.0588, device='cuda:0'),\n",
       "  8: tensor(0.0572, device='cuda:0'),\n",
       "  9: tensor(0.0573, device='cuda:0'),\n",
       "  10: tensor(0.0555, device='cuda:0'),\n",
       "  11: tensor(0.0566, device='cuda:0'),\n",
       "  12: tensor(0.0552, device='cuda:0'),\n",
       "  13: tensor(0.0562, device='cuda:0')}}"
      ]
     },
     "execution_count": 7,
     "metadata": {},
     "output_type": "execute_result"
    }
   ],
   "source": [
    "gen_error"
   ]
  },
  {
   "cell_type": "code",
   "execution_count": 21,
   "metadata": {},
   "outputs": [
    {
     "data": {
      "image/png": "[encoded data removed]",
      "text/plain": [
       "<Figure size 432x504 with 4 Axes>"
      ]
     },
     "metadata": {
      "needs_background": "light"
     },
     "output_type": "display_data"
    }
   ],
   "source": [
    "import matplotlib.pyplot as plt\n",
    "\n",
    "d_range = list(range(5, 15, 3))\n",
    "figure, axis = plt.subplots(len(gen_error), figsize=(6,7))\n",
    "for d in range(len(d_range)):\n",
    "    x = []\n",
    "    y = []\n",
    "    for key, val in gen_error[d_range[d]].items():\n",
    "        x.append(2**key)\n",
    "        y.append(val.detach().cpu().numpy())\n",
    "    axis[d].grid()\n",
    "    axis[d].scatter(x, y)\n",
    "    axis[d].set_title(f'Data with {d_range[d]} dimensions')\n",
    "    axis[d].set_xlabel('Training data size')\n",
    "    axis[d].set_ylabel('Generalization error')\n",
    "figure.tight_layout()\n",
    "figure.savefig(\"problem_14.png\")"
   ]
  },
  {
   "cell_type": "code",
   "execution_count": null,
   "metadata": {},
   "outputs": [],
   "source": []
  }
 ],
 "metadata": {
  "interpreter": {
   "hash": "f07dac685571c76fc8bcd22d9aecc15893865c8361251687b045ce415bf11cbc"
  },
  "kernelspec": {
   "display_name": "Python 3.8.12 64-bit ('pDL': conda)",
   "name": "python3"
  },
  "language_info": {
   "codemirror_mode": {
    "name": "ipython",
    "version": 3
   },
   "file_extension": ".py",
   "mimetype": "text/x-python",
   "name": "python",
   "nbconvert_exporter": "python",
   "pygments_lexer": "ipython3",
   "version": "3.8.12"
  },
  "orig_nbformat": 4
 },
 "nbformat": 4,
 "nbformat_minor": 2
}
